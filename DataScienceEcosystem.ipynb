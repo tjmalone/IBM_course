{
 "cells": [
  {
   "cell_type": "markdown",
   "id": "1cde12a6-d595-4336-803a-f4c0539a9ca3",
   "metadata": {},
   "source": [
    "# Data Science Tools and Ecosystem"
   ]
  },
  {
   "cell_type": "markdown",
   "id": "86460a9a-80e0-4634-b1c7-2a947fbd4f2a",
   "metadata": {},
   "source": [
    "In this notebook, Data Science Tools and Ecosystem are summarized."
   ]
  },
  {
   "cell_type": "markdown",
   "id": "4f6dec8e-4a13-4cd0-872f-67399190b44f",
   "metadata": {},
   "source": [
    "Objectives:\n",
    "- List popular languages for Data Science\n",
    "- List dta science libraries\n",
    "- List data science tools"
   ]
  },
  {
   "cell_type": "markdown",
   "id": "eb09785d-cbd7-4c6c-9f1e-5ca3433894c3",
   "metadata": {},
   "source": [
    "Some of the popular languages that Data Scientists use are:\n",
    "1. Python\n",
    "2. R\n",
    "3. SQL"
   ]
  },
  {
   "cell_type": "markdown",
   "id": "9c544e4d-3729-4044-9dbe-2cbebe5ffa2b",
   "metadata": {},
   "source": [
    "Some of the commonly used libraries used by Data Scientists include:\n",
    "1. Pandas\n",
    "2. matplotlib\n",
    "3. TensorFlow"
   ]
  },
  {
   "cell_type": "markdown",
   "id": "1724f1fd-9728-4fd6-bd83-2e5b4141a1ea",
   "metadata": {},
   "source": [
    "| Data Science Tools |\n",
    "| - |\n",
    "| Watson Studio |\n",
    "| RStudio |\n",
    "| Visual Studio |"
   ]
  },
  {
   "cell_type": "markdown",
   "id": "6cc9fc4c-df52-4a6e-9557-300ed91ce83e",
   "metadata": {},
   "source": [
    "| Stretch/Untouched | ProbDistribution | Accuracy |\n",
    "| --- | --- | --- |\n",
    "| Stretched | Gaussian | .843 |"
   ]
  },
  {
   "cell_type": "markdown",
   "id": "b3480ca2-0149-4cc9-b72e-45aaee736e2f",
   "metadata": {},
   "source": [
    "### Below are a few examples of evaluating arithmetic expressions in Python."
   ]
  },
  {
   "cell_type": "code",
   "execution_count": 1,
   "id": "8d596e10-8d43-467c-b658-cc4661f18b1b",
   "metadata": {},
   "outputs": [
    {
     "name": "stdout",
     "output_type": "stream",
     "text": [
      "17\n"
     ]
    }
   ],
   "source": [
    "# This a simple arithmetic expression to mutiply then add integers\n",
    "a = (3*4)+5\n",
    "print(a)"
   ]
  },
  {
   "cell_type": "code",
   "execution_count": 2,
   "id": "64763f4f-7b67-4cf0-805e-b15976120944",
   "metadata": {},
   "outputs": [
    {
     "name": "stdout",
     "output_type": "stream",
     "text": [
      "3.3333333333333335 hours\n"
     ]
    }
   ],
   "source": [
    "# This will convert 200 minutes to hours by diving by 60\n",
    "h = 200/60\n",
    "print(str(h) + \" hours\")"
   ]
  },
  {
   "cell_type": "markdown",
   "id": "813af82d-b4d6-438c-9724-919bed5afda7",
   "metadata": {},
   "source": [
    "## Author\n",
    "Taylor"
   ]
  },
  {
   "cell_type": "code",
   "execution_count": null,
   "id": "b755d66b-d2da-4542-8fe4-f5f7c04a0cab",
   "metadata": {},
   "outputs": [],
   "source": []
  }
 ],
 "metadata": {
  "kernelspec": {
   "display_name": "Python 3 (ipykernel)",
   "language": "python",
   "name": "python3"
  },
  "language_info": {
   "codemirror_mode": {
    "name": "ipython",
    "version": 3
   },
   "file_extension": ".py",
   "mimetype": "text/x-python",
   "name": "python",
   "nbconvert_exporter": "python",
   "pygments_lexer": "ipython3",
   "version": "3.12.8"
  }
 },
 "nbformat": 4,
 "nbformat_minor": 5
}
